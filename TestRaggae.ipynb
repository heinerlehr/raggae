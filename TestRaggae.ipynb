{
 "cells": [
  {
   "cell_type": "code",
   "execution_count": 1,
   "metadata": {},
   "outputs": [],
   "source": [
    "import os\n",
    "from ragstore import RAGStore"
   ]
  },
  {
   "cell_type": "code",
   "execution_count": 2,
   "metadata": {},
   "outputs": [
    {
     "data": {
      "text/plain": [
       "1"
      ]
     },
     "execution_count": 2,
     "metadata": {},
     "output_type": "execute_result"
    }
   ],
   "source": [
    "from loguru import logger\n",
    "logger.add('run.log', rotation=\"1 week\", retention=\"4 weeks\")    # Once the file is too old, it's rotated"
   ]
  },
  {
   "cell_type": "code",
   "execution_count": 3,
   "metadata": {},
   "outputs": [],
   "source": [
    "%load_ext autoreload\n",
    "%autoreload 2"
   ]
  },
  {
   "cell_type": "code",
   "execution_count": null,
   "metadata": {},
   "outputs": [
    {
     "name": "stderr",
     "output_type": "stream",
     "text": [
      "\u001b[32m2025-01-10 17:05:38.484\u001b[0m | \u001b[1mINFO    \u001b[0m | \u001b[36mragstore\u001b[0m:\u001b[36mset_context\u001b[0m:\u001b[36m455\u001b[0m - \u001b[1mSummarising the document costed 26242 tokens\u001b[0m\n"
     ]
    }
   ],
   "source": [
    "rs = RAGStore(debug=False)\n",
    "rs.add_file('test/RAG Project Dataset/1706.03762v7.pdf')"
   ]
  },
  {
   "cell_type": "code",
   "execution_count": null,
   "metadata": {},
   "outputs": [
    {
     "name": "stderr",
     "output_type": "stream",
     "text": [
      "\u001b[32m2025-01-10 16:31:06.829\u001b[0m | \u001b[1mINFO    \u001b[0m | \u001b[36mragstore\u001b[0m:\u001b[36mset_context\u001b[0m:\u001b[36m453\u001b[0m - \u001b[1mSummarising the document costed 26336 tokens\u001b[0m\n",
      "\u001b[32m2025-01-10 16:32:16.765\u001b[0m | \u001b[31m\u001b[1mERROR   \u001b[0m | \u001b[36mragstore\u001b[0m:\u001b[36madd_folder\u001b[0m:\u001b[36m239\u001b[0m - \u001b[31m\u001b[1mError processing file test/RAG Project Dataset/1706.03762v7.pdf: OpenAISummariser.summarise() missing 1 required positional argument: 'image_fn'\u001b[0m\n"
     ]
    }
   ],
   "source": [
    "# rs.add_folder('test/RAG Project Dataset')"
   ]
  },
  {
   "cell_type": "code",
   "execution_count": 12,
   "metadata": {},
   "outputs": [
    {
     "name": "stderr",
     "output_type": "stream",
     "text": [
      "\u001b[32m2025-01-10 15:34:47.355\u001b[0m | \u001b[33m\u001b[1mWARNING \u001b[0m | \u001b[36mragstore\u001b[0m:\u001b[36mclean\u001b[0m:\u001b[36m398\u001b[0m - \u001b[33m\u001b[1mCleaning the vector store\u001b[0m\n",
      "\u001b[32m2025-01-10 15:34:47.357\u001b[0m | \u001b[1mINFO    \u001b[0m | \u001b[36mragstore\u001b[0m:\u001b[36mclean\u001b[0m:\u001b[36m405\u001b[0m - \u001b[1mChroma database directory 'db' does not exist.\u001b[0m\n",
      "\u001b[32m2025-01-10 15:34:47.360\u001b[0m | \u001b[33m\u001b[1mWARNING \u001b[0m | \u001b[36mragstore\u001b[0m:\u001b[36mclean\u001b[0m:\u001b[36m370\u001b[0m - \u001b[33m\u001b[1mCleaning the document store\u001b[0m\n"
     ]
    }
   ],
   "source": [
    "# Clean\n",
    "from ragstore import VectorStore\n",
    "from ragstore import DocumentStore\n",
    "\n",
    "clean = False\n",
    "if clean:\n",
    "    VectorStore().clean()\n",
    "    DocumentStore().clean()"
   ]
  }
 ],
 "metadata": {
  "kernelspec": {
   "display_name": ".venv",
   "language": "python",
   "name": "python3"
  },
  "language_info": {
   "codemirror_mode": {
    "name": "ipython",
    "version": 3
   },
   "file_extension": ".py",
   "mimetype": "text/x-python",
   "name": "python",
   "nbconvert_exporter": "python",
   "pygments_lexer": "ipython3",
   "version": "3.12.2"
  }
 },
 "nbformat": 4,
 "nbformat_minor": 2
}
